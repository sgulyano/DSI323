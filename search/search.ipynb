{
 "cells": [
  {
   "cell_type": "markdown",
   "metadata": {},
   "source": [
    "# Search and Find Data Assets using Google Data Catalog API\n",
    "\n",
    "Google Data Catalog API Reference:\n",
    "https://googleapis.dev/python/datacatalog/latest/index.html\n",
    "\n",
    "Google Cloud Data Catalog hands-on guide: search, get & lookup with Python:\n",
    "https://medium.com/google-cloud/data-catalog-hands-on-guide-search-get-lookup-with-python-82d99bfb4056"
   ]
  },
  {
   "cell_type": "markdown",
   "metadata": {},
   "source": [
    "Setup environment and import the necessary libraries"
   ]
  },
  {
   "cell_type": "code",
   "execution_count": null,
   "metadata": {},
   "outputs": [],
   "source": [
    "%env GOOGLE_APPLICATION_CREDENTIALS="
   ]
  },
  {
   "cell_type": "code",
   "execution_count": 2,
   "metadata": {},
   "outputs": [],
   "source": [
    "from google.cloud import datacatalog_v1"
   ]
  },
  {
   "cell_type": "code",
   "execution_count": 3,
   "metadata": {},
   "outputs": [],
   "source": [
    "datacatalog = datacatalog_v1.DataCatalogClient()"
   ]
  },
  {
   "cell_type": "code",
   "execution_count": 4,
   "metadata": {},
   "outputs": [],
   "source": [
    "scope = datacatalog_v1.types.SearchCatalogRequest.Scope()\n",
    "scope.include_project_ids.append('sarun-project')"
   ]
  },
  {
   "cell_type": "markdown",
   "metadata": {},
   "source": [
    "## Search Catalog using Query\n",
    "\n",
    "Any query that works in Google Data Catalog also works here."
   ]
  },
  {
   "cell_type": "markdown",
   "metadata": {},
   "source": [
    "### Ex1: search with filter for finding BigQuery datasets"
   ]
  },
  {
   "cell_type": "code",
   "execution_count": 5,
   "metadata": {},
   "outputs": [],
   "source": [
    "results = datacatalog.search_catalog(scope=scope, query='system=bigquery type=dataset')"
   ]
  },
  {
   "cell_type": "code",
   "execution_count": 6,
   "metadata": {},
   "outputs": [
    {
     "data": {
      "text/plain": [
       "SearchCatalogPager<results {\n",
       "  search_result_type: ENTRY\n",
       "  search_result_subtype: \"entry.dataset\"\n",
       "  relative_resource_name: \"projects/sarun-project/locations/us/entryGroups/@bigquery/entries/cHJvamVjdHMvc2FydW4tcHJvamVjdC9kYXRhc2V0cy9kc2lfZGF0YXNldA\"\n",
       "  linked_resource: \"//bigquery.googleapis.com/projects/sarun-project/datasets/dsi_dataset\"\n",
       "  integrated_system: BIGQUERY\n",
       "}\n",
       ">"
      ]
     },
     "execution_count": 6,
     "metadata": {},
     "output_type": "execute_result"
    }
   ],
   "source": [
    "results"
   ]
  },
  {
   "cell_type": "markdown",
   "metadata": {},
   "source": [
    "### Ex2: search with filter for finding Tag Templates"
   ]
  },
  {
   "cell_type": "code",
   "execution_count": 7,
   "metadata": {},
   "outputs": [],
   "source": [
    "results = datacatalog.search_catalog(scope=scope, query='type=TAG_TEMPLATE')"
   ]
  },
  {
   "cell_type": "code",
   "execution_count": 8,
   "metadata": {},
   "outputs": [
    {
     "data": {
      "text/plain": [
       "[search_result_type: TAG_TEMPLATE\n",
       " search_result_subtype: \"tag_template\"\n",
       " relative_resource_name: \"projects/sarun-project/locations/us/tagTemplates/data_loss_prevention\"\n",
       " linked_resource: \"//datacatalog.googleapis.com/projects/sarun-project/locations/us/tagTemplates/data_loss_prevention\",\n",
       " search_result_type: TAG_TEMPLATE\n",
       " search_result_subtype: \"tag_template\"\n",
       " relative_resource_name: \"projects/sarun-project/locations/us/tagTemplates/test_column_metadata\"\n",
       " linked_resource: \"//datacatalog.googleapis.com/projects/sarun-project/locations/us/tagTemplates/test_column_metadata\",\n",
       " search_result_type: TAG_TEMPLATE\n",
       " search_result_subtype: \"tag_template\"\n",
       " relative_resource_name: \"projects/sarun-project/locations/us/tagTemplates/test_table_metadata\"\n",
       " linked_resource: \"//datacatalog.googleapis.com/projects/sarun-project/locations/us/tagTemplates/test_table_metadata\",\n",
       " search_result_type: TAG_TEMPLATE\n",
       " search_result_subtype: \"tag_template\"\n",
       " relative_resource_name: \"projects/sarun-project/locations/us/tagTemplates/test_schema_metadata\"\n",
       " linked_resource: \"//datacatalog.googleapis.com/projects/sarun-project/locations/us/tagTemplates/test_schema_metadata\",\n",
       " search_result_type: TAG_TEMPLATE\n",
       " search_result_subtype: \"tag_template\"\n",
       " relative_resource_name: \"projects/sarun-project/locations/us/tagTemplates/postgresql_column_metadata\"\n",
       " linked_resource: \"//datacatalog.googleapis.com/projects/sarun-project/locations/us/tagTemplates/postgresql_column_metadata\",\n",
       " search_result_type: TAG_TEMPLATE\n",
       " search_result_subtype: \"tag_template\"\n",
       " relative_resource_name: \"projects/sarun-project/locations/us/tagTemplates/postgresql_table_metadata\"\n",
       " linked_resource: \"//datacatalog.googleapis.com/projects/sarun-project/locations/us/tagTemplates/postgresql_table_metadata\",\n",
       " search_result_type: TAG_TEMPLATE\n",
       " search_result_subtype: \"tag_template\"\n",
       " relative_resource_name: \"projects/sarun-project/locations/us/tagTemplates/postgresql_schema_metadata\"\n",
       " linked_resource: \"//datacatalog.googleapis.com/projects/sarun-project/locations/us/tagTemplates/postgresql_schema_metadata\",\n",
       " search_result_type: TAG_TEMPLATE\n",
       " search_result_subtype: \"tag_template\"\n",
       " relative_resource_name: \"projects/sarun-project/locations/us/tagTemplates/python_tag_template\"\n",
       " linked_resource: \"//datacatalog.googleapis.com/projects/sarun-project/locations/us/tagTemplates/python_tag_template\",\n",
       " search_result_type: TAG_TEMPLATE\n",
       " search_result_subtype: \"tag_template\"\n",
       " relative_resource_name: \"projects/sarun-project/locations/us-central1/tagTemplates/my_tag_template\"\n",
       " linked_resource: \"//datacatalog.googleapis.com/projects/sarun-project/locations/us-central1/tagTemplates/my_tag_template\"]"
      ]
     },
     "execution_count": 8,
     "metadata": {},
     "output_type": "execute_result"
    }
   ],
   "source": [
    "fetched_results = [result for result in results]\n",
    "fetched_results"
   ]
  },
  {
   "cell_type": "markdown",
   "metadata": {},
   "source": [
    "### Ex3: search using keywords"
   ]
  },
  {
   "cell_type": "code",
   "execution_count": 9,
   "metadata": {},
   "outputs": [
    {
     "data": {
      "text/plain": [
       "SearchCatalogPager<results {\n",
       "  search_result_type: TAG_TEMPLATE\n",
       "  search_result_subtype: \"tag_template\"\n",
       "  relative_resource_name: \"projects/sarun-project/locations/us/tagTemplates/python_tag_template\"\n",
       "  linked_resource: \"//datacatalog.googleapis.com/projects/sarun-project/locations/us/tagTemplates/python_tag_template\"\n",
       "}\n",
       ">"
      ]
     },
     "execution_count": 9,
     "metadata": {},
     "output_type": "execute_result"
    }
   ],
   "source": [
    "results = datacatalog.search_catalog(scope=scope, query='Python')\n",
    "results"
   ]
  },
  {
   "cell_type": "markdown",
   "metadata": {},
   "source": [
    "### Ex4: search with filter for finding policy tag named PII"
   ]
  },
  {
   "cell_type": "code",
   "execution_count": 10,
   "metadata": {},
   "outputs": [
    {
     "data": {
      "text/plain": [
       "SearchCatalogPager<results {\n",
       "  search_result_type: ENTRY\n",
       "  search_result_subtype: \"entry.table\"\n",
       "  relative_resource_name: \"projects/sarun-project/locations/us/entryGroups/@bigquery/entries/cHJvamVjdHMvc2FydW4tcHJvamVjdC9kYXRhc2V0cy9kc2lfZGF0YXNldC90YWJsZXMvb3JnX2V4cGVkaXRlX2ludHVpdGl2ZV9wYXJhZGlnbXNfM2RlMA\"\n",
       "  linked_resource: \"//bigquery.googleapis.com/projects/sarun-project/datasets/dsi_dataset/tables/org_expedite_intuitive_paradigms_3de0\"\n",
       "  integrated_system: BIGQUERY\n",
       "}\n",
       "results {\n",
       "  search_result_type: ENTRY\n",
       "  search_result_subtype: \"entry.table\"\n",
       "  relative_resource_name: \"projects/sarun-project/locations/us/entryGroups/@bigquery/entries/cHJvamVjdHMvc2FydW4tcHJvamVjdC9kYXRhc2V0cy9kc2lfZGF0YXNldC90YWJsZXMvdGF4aV90cmlwcw\"\n",
       "  linked_resource: \"//bigquery.googleapis.com/projects/sarun-project/datasets/dsi_dataset/tables/taxi_trips\"\n",
       "  integrated_system: BIGQUERY\n",
       "}\n",
       ">"
      ]
     },
     "execution_count": 10,
     "metadata": {},
     "output_type": "execute_result"
    }
   ],
   "source": [
    "results = datacatalog.search_catalog(scope=scope, query='policyTag:PII')\n",
    "results"
   ]
  },
  {
   "cell_type": "markdown",
   "metadata": {},
   "source": [
    "### Ex5: search with filter for finding data assets with specific tag templates"
   ]
  },
  {
   "cell_type": "code",
   "execution_count": 11,
   "metadata": {},
   "outputs": [
    {
     "data": {
      "text/plain": [
       "SearchCatalogPager<results {\n",
       "  search_result_type: ENTRY\n",
       "  search_result_subtype: \"entry.table\"\n",
       "  relative_resource_name: \"projects/sarun-project/locations/us/entryGroups/@bigquery/entries/cHJvamVjdHMvc2FydW4tcHJvamVjdC9kYXRhc2V0cy9kc2lfZGF0YXNldC90YWJsZXMvdGF4aV90cmlwcw\"\n",
       "  linked_resource: \"//bigquery.googleapis.com/projects/sarun-project/datasets/dsi_dataset/tables/taxi_trips\"\n",
       "  integrated_system: BIGQUERY\n",
       "}\n",
       "results {\n",
       "  search_result_type: ENTRY\n",
       "  search_result_subtype: \"entry.table\"\n",
       "  relative_resource_name: \"projects/sarun-project/locations/us/entryGroups/test/entries/public_company\"\n",
       "  linked_resource: \"ec2-52-20-66-171.compute-1.amazonaws.com/public/company\"\n",
       "  user_specified_system: \"test\"\n",
       "}\n",
       ">"
      ]
     },
     "execution_count": 11,
     "metadata": {},
     "output_type": "execute_result"
    }
   ],
   "source": [
    "results = datacatalog.search_catalog(scope=scope, query='tag:sarun-project.python_tag_template')\n",
    "results"
   ]
  },
  {
   "cell_type": "markdown",
   "metadata": {},
   "source": [
    "## List Entry Groups and Entries"
   ]
  },
  {
   "cell_type": "code",
   "execution_count": 12,
   "metadata": {},
   "outputs": [],
   "source": [
    "project_id = 'sarun-project'\n",
    "location = 'us'"
   ]
  },
  {
   "cell_type": "markdown",
   "metadata": {},
   "source": [
    "First, get a list of all entry groups"
   ]
  },
  {
   "cell_type": "code",
   "execution_count": 13,
   "metadata": {},
   "outputs": [
    {
     "data": {
      "text/plain": [
       "[name: \"projects/sarun-project/locations/us/entryGroups/postgresql\"\n",
       " data_catalog_timestamps {\n",
       "   create_time {\n",
       "     seconds: 1610692312\n",
       "     nanos: 374000000\n",
       "   }\n",
       "   update_time {\n",
       "     seconds: 1610692312\n",
       "     nanos: 374000000\n",
       "   }\n",
       " },\n",
       " name: \"projects/sarun-project/locations/us/entryGroups/test\"\n",
       " data_catalog_timestamps {\n",
       "   create_time {\n",
       "     seconds: 1610692843\n",
       "     nanos: 581000000\n",
       "   }\n",
       "   update_time {\n",
       "     seconds: 1610692843\n",
       "     nanos: 581000000\n",
       "   }\n",
       " }]"
      ]
     },
     "execution_count": 13,
     "metadata": {},
     "output_type": "execute_result"
    }
   ],
   "source": [
    "results = datacatalog.list_entry_groups(parent=f'projects/{project_id}/locations/{location}')\n",
    "fetched_results = [result for result in results]\n",
    "fetched_results"
   ]
  },
  {
   "cell_type": "markdown",
   "metadata": {},
   "source": [
    "Second, fetch entries from an entry group."
   ]
  },
  {
   "cell_type": "code",
   "execution_count": 14,
   "metadata": {},
   "outputs": [
    {
     "data": {
      "text/plain": [
       "ListEntriesPager<entries {\n",
       "  name: \"projects/sarun-project/locations/us/entryGroups/postgresql/entries/public\"\n",
       "  display_name: \"public\"\n",
       "  linked_resource: \"ec2-52-20-66-171.compute-1.amazonaws.com/public\"\n",
       "  user_specified_type: \"schema\"\n",
       "  user_specified_system: \"postgresql\"\n",
       "}\n",
       "entries {\n",
       "  name: \"projects/sarun-project/locations/us/entryGroups/postgresql/entries/public_company\"\n",
       "  display_name: \"company\"\n",
       "  schema {\n",
       "    columns {\n",
       "      type: \"character\"\n",
       "      mode: \"NULLABLE\"\n",
       "      column: \"address\"\n",
       "    }\n",
       "    columns {\n",
       "      type: \"integer\"\n",
       "      mode: \"NULLABLE\"\n",
       "      column: \"age\"\n",
       "    }\n",
       "    columns {\n",
       "      type: \"integer\"\n",
       "      mode: \"NULLABLE\"\n",
       "      column: \"id\"\n",
       "    }\n",
       "    columns {\n",
       "      type: \"text\"\n",
       "      mode: \"NULLABLE\"\n",
       "      column: \"name\"\n",
       "    }\n",
       "    columns {\n",
       "      type: \"real\"\n",
       "      mode: \"NULLABLE\"\n",
       "      column: \"salary\"\n",
       "    }\n",
       "  }\n",
       "  linked_resource: \"ec2-52-20-66-171.compute-1.amazonaws.com/public/company\"\n",
       "  user_specified_type: \"table\"\n",
       "  user_specified_system: \"postgresql\"\n",
       "}\n",
       ">"
      ]
     },
     "execution_count": 14,
     "metadata": {},
     "output_type": "execute_result"
    }
   ],
   "source": [
    "datacatalog.list_entries(parent=fetched_results[0].name)"
   ]
  },
  {
   "cell_type": "markdown",
   "metadata": {},
   "source": [
    "## Lookup Entry\n",
    "\n",
    "Use for finding specific item in Google Cloud Platform"
   ]
  },
  {
   "cell_type": "markdown",
   "metadata": {},
   "source": [
    "### Ex1: finding BigQuery table"
   ]
  },
  {
   "cell_type": "code",
   "execution_count": 15,
   "metadata": {},
   "outputs": [],
   "source": [
    "project_id = 'sarun-project'\n",
    "location = 'us'\n",
    "dataset_id = 'dsi_dataset'\n",
    "table_id = 'taxi_trips'"
   ]
  },
  {
   "cell_type": "code",
   "execution_count": 16,
   "metadata": {},
   "outputs": [],
   "source": [
    "resource_name = '//bigquery.googleapis.com/projects/{}' \\\n",
    "                '/datasets/{}/tables/{}'.format(project_id, dataset_id, table_id)\n",
    "table_entry = datacatalog.lookup_entry(request={\"linked_resource\": resource_name})"
   ]
  },
  {
   "cell_type": "code",
   "execution_count": 17,
   "metadata": {},
   "outputs": [
    {
     "data": {
      "text/plain": [
       "name: \"projects/sarun-project/locations/us/entryGroups/@bigquery/entries/cHJvamVjdHMvc2FydW4tcHJvamVjdC9kYXRhc2V0cy9kc2lfZGF0YXNldC90YWJsZXMvdGF4aV90cmlwcw\"\n",
       "type: TABLE\n",
       "schema {\n",
       "  columns {\n",
       "    type: \"STRING\"\n",
       "    description: \"A code indicating the LPEP provider that provided the record. 1= Creative Mobile Technologies, LLC; 2= VeriFone Inc.\"\n",
       "    mode: \"REQUIRED\"\n",
       "    column: \"vendor_id\"\n",
       "  }\n",
       "  columns {\n",
       "    type: \"DATETIME\"\n",
       "    description: \"The date and time when the meter was engaged\"\n",
       "    mode: \"NULLABLE\"\n",
       "    column: \"pickup_datetime\"\n",
       "  }\n",
       "  columns {\n",
       "    type: \"DATETIME\"\n",
       "    description: \"The date and time when the meter was disengaged\"\n",
       "    mode: \"NULLABLE\"\n",
       "    column: \"dropoff_datetime\"\n",
       "  }\n",
       "  columns {\n",
       "    type: \"STRING\"\n",
       "    description: \"This flag indicates whether the trip record was held in vehicle memory before sending to the vendor, aka \\342\\200\\234store and forward,\\342\\200\\235 because the vehicle did not have a connection to the server. Y= store and forward trip N= not a store and forward trip\"\n",
       "    mode: \"NULLABLE\"\n",
       "    column: \"store_and_fwd_flag\"\n",
       "  }\n",
       "  columns {\n",
       "    type: \"INT64\"\n",
       "    description: \"The final rate code in effect at the end of the trip. 1= Standard rate 2=JFK 3=Newark 4=Nassau or Westchester 5=Negotiated fare 6=Group ride\"\n",
       "    mode: \"NULLABLE\"\n",
       "    column: \"rate_code\"\n",
       "  }\n",
       "  columns {\n",
       "    type: \"DOUBLE\"\n",
       "    description: \"Longitude where the meter was engaged\"\n",
       "    mode: \"NULLABLE\"\n",
       "    column: \"pickup_longitude\"\n",
       "  }\n",
       "  columns {\n",
       "    type: \"DOUBLE\"\n",
       "    description: \"Latitude where the meter was engaged.\"\n",
       "    mode: \"NULLABLE\"\n",
       "    column: \"pickup_latitude\"\n",
       "  }\n",
       "  columns {\n",
       "    type: \"DOUBLE\"\n",
       "    description: \"Longitude where the meter was timed off.\"\n",
       "    mode: \"NULLABLE\"\n",
       "    column: \"dropoff_longitude\"\n",
       "  }\n",
       "  columns {\n",
       "    type: \"DOUBLE\"\n",
       "    description: \"Latitude where the meter was timed off.\"\n",
       "    mode: \"NULLABLE\"\n",
       "    column: \"dropoff_latitude\"\n",
       "  }\n",
       "  columns {\n",
       "    type: \"INT64\"\n",
       "    description: \"The number of passengers in the vehicle. This is a driver-entered value.\"\n",
       "    mode: \"NULLABLE\"\n",
       "    column: \"passenger_count\"\n",
       "  }\n",
       "  columns {\n",
       "    type: \"DOUBLE\"\n",
       "    description: \"The elapsed trip distance in miles reported by the taximeter.\"\n",
       "    mode: \"NULLABLE\"\n",
       "    column: \"trip_distance\"\n",
       "  }\n",
       "  columns {\n",
       "    type: \"DOUBLE\"\n",
       "    description: \"The time-and-distance fare calculated by the meter\"\n",
       "    mode: \"NULLABLE\"\n",
       "    column: \"fare_amount\"\n",
       "  }\n",
       "  columns {\n",
       "    type: \"DOUBLE\"\n",
       "    description: \"Miscellaneous extras and surcharges. Currently, this only includes the $0.50 and $1 rush hour and overnight charges\"\n",
       "    mode: \"NULLABLE\"\n",
       "    column: \"extra\"\n",
       "  }\n",
       "  columns {\n",
       "    type: \"DOUBLE\"\n",
       "    description: \"$0.50 MTA tax that is automatically triggered based on the metered rate in use\"\n",
       "    mode: \"NULLABLE\"\n",
       "    column: \"mta_tax\"\n",
       "  }\n",
       "  columns {\n",
       "    type: \"DOUBLE\"\n",
       "    description: \"Tip amount \\342\\200\\223 This field is automatically populated for credit card tips. Cash tips are not included.\"\n",
       "    mode: \"NULLABLE\"\n",
       "    column: \"tip_amount\"\n",
       "  }\n",
       "  columns {\n",
       "    type: \"DOUBLE\"\n",
       "    description: \"Total amount of all tolls paid in trip.\"\n",
       "    mode: \"NULLABLE\"\n",
       "    column: \"tolls_amount\"\n",
       "  }\n",
       "  columns {\n",
       "    type: \"DOUBLE\"\n",
       "    mode: \"NULLABLE\"\n",
       "    column: \"ehail_fee\"\n",
       "  }\n",
       "  columns {\n",
       "    type: \"DOUBLE\"\n",
       "    description: \"The total amount charged to passengers. Does not include cash tips.\"\n",
       "    mode: \"NULLABLE\"\n",
       "    column: \"total_amount\"\n",
       "  }\n",
       "  columns {\n",
       "    type: \"INT64\"\n",
       "    description: \"A numeric code signifying how the passenger paid for the trip. 1= Credit card 2= Cash 3= No charge 4= Dispute 5= Unknown 6= Voided trip\"\n",
       "    mode: \"NULLABLE\"\n",
       "    column: \"payment_type\"\n",
       "  }\n",
       "  columns {\n",
       "    type: \"DOUBLE\"\n",
       "    mode: \"NULLABLE\"\n",
       "    column: \"distance_between_service\"\n",
       "  }\n",
       "  columns {\n",
       "    type: \"INT64\"\n",
       "    mode: \"NULLABLE\"\n",
       "    column: \"time_between_service\"\n",
       "  }\n",
       "  columns {\n",
       "    type: \"INT64\"\n",
       "    description: \"A code indicating whether the trip was a street-hail or a dispatch that is automatically assigned based on the metered rate in use but can be altered by the driver. 1= Street-hail 2= Dispatch\"\n",
       "    mode: \"NULLABLE\"\n",
       "    column: \"trip_type\"\n",
       "  }\n",
       "  columns {\n",
       "    type: \"DOUBLE\"\n",
       "    description: \"$0.30 improvement surcharge assessed on hailed trips at the flag drop. The improvement surcharge began being levied in 2015.\"\n",
       "    mode: \"NULLABLE\"\n",
       "    column: \"imp_surcharge\"\n",
       "  }\n",
       "}\n",
       "source_system_timestamps {\n",
       "  create_time {\n",
       "    seconds: 1610506851\n",
       "    nanos: 430000000\n",
       "  }\n",
       "  update_time {\n",
       "    seconds: 1612156232\n",
       "    nanos: 874000000\n",
       "  }\n",
       "}\n",
       "linked_resource: \"//bigquery.googleapis.com/projects/sarun-project/datasets/dsi_dataset/tables/taxi_trips\"\n",
       "bigquery_table_spec {\n",
       "  table_source_type: BIGQUERY_TABLE\n",
       "}\n",
       "integrated_system: BIGQUERY"
      ]
     },
     "execution_count": 17,
     "metadata": {},
     "output_type": "execute_result"
    }
   ],
   "source": [
    "table_entry"
   ]
  }
 ],
 "metadata": {
  "kernelspec": {
   "display_name": "catalog",
   "language": "python",
   "name": "catalog"
  },
  "language_info": {
   "codemirror_mode": {
    "name": "ipython",
    "version": 3
   },
   "file_extension": ".py",
   "mimetype": "text/x-python",
   "name": "python",
   "nbconvert_exporter": "python",
   "pygments_lexer": "ipython3",
   "version": "3.6.12"
  }
 },
 "nbformat": 4,
 "nbformat_minor": 4
}
