{
 "cells": [
  {
   "cell_type": "markdown",
   "metadata": {},
   "source": [
    "# Ingest PostgreSQL Schema into Data Catalog"
   ]
  },
  {
   "cell_type": "code",
   "execution_count": null,
   "metadata": {},
   "outputs": [],
   "source": [
    "%env GOOGLE_APPLICATION_CREDENTIALS=\n",
    "\n",
    "%env DATACATALOG_PROJECT_ID=\n",
    "%env DATACATALOG_LOCATION_ID=\n",
    "%env POSTGRESQL_SERVER=\n",
    "%env POSTGRESQL_USERNAME=\n",
    "%env POSTGRESQL_PASSWORD=\n",
    "%env POSTGRESQL_DATABASE="
   ]
  },
  {
   "cell_type": "code",
   "execution_count": null,
   "metadata": {},
   "outputs": [],
   "source": [
    "%%cmd\n",
    "google-datacatalog-postgresql-connector ^\n",
    "--datacatalog-project-id=%DATACATALOG_PROJECT_ID% ^\n",
    "--datacatalog-location-id=%DATACATALOG_LOCATION_ID% ^\n",
    "--postgresql-host=%POSTGRESQL_SERVER% ^\n",
    "--postgresql-user=%POSTGRESQL_USERNAME% ^\n",
    "--postgresql-pass=%POSTGRESQL_PASSWORD% ^\n",
    "--postgresql-database=%POSTGRESQL_DATABASE% "
   ]
  },
  {
   "cell_type": "code",
   "execution_count": null,
   "metadata": {},
   "outputs": [],
   "source": [
    "%%cmd\n",
    "google-datacatalog-postgresql-connector ^\n",
    "--datacatalog-project-id=%DATACATALOG_PROJECT_ID% ^\n",
    "--datacatalog-location-id=%DATACATALOG_LOCATION_ID% ^\n",
    "--datacatalog-entry-group-id=test ^\n",
    "--postgresql-host=%POSTGRESQL_SERVER% ^\n",
    "--postgresql-user=%POSTGRESQL_USERNAME% ^\n",
    "--postgresql-pass=%POSTGRESQL_PASSWORD% ^\n",
    "--postgresql-database=%POSTGRESQL_DATABASE% "
   ]
  },
  {
   "cell_type": "markdown",
   "metadata": {},
   "source": [
    "## Create tags"
   ]
  },
  {
   "cell_type": "code",
   "execution_count": null,
   "metadata": {},
   "outputs": [],
   "source": [
    "from google.cloud import datacatalog_v1"
   ]
  },
  {
   "cell_type": "code",
   "execution_count": null,
   "metadata": {},
   "outputs": [],
   "source": [
    "datacatalog = datacatalog_v1.DataCatalogClient()"
   ]
  },
  {
   "cell_type": "code",
   "execution_count": null,
   "metadata": {},
   "outputs": [],
   "source": [
    "project_id = 'sarun-project'\n",
    "location = 'us'\n",
    "tag_template_id = 'python_tag_template'\n",
    "entry_group_id = 'test'\n",
    "entry_id = 'public_company'"
   ]
  },
  {
   "cell_type": "code",
   "execution_count": null,
   "metadata": {},
   "outputs": [],
   "source": [
    "entry_list = datacatalog.list_entries(parent=f'projects/{project_id}/locations/{location}/entryGroups/{entry_group_id}')\n",
    "entry_list"
   ]
  },
  {
   "cell_type": "code",
   "execution_count": null,
   "metadata": {},
   "outputs": [],
   "source": [
    "entry = datacatalog.get_entry(name=f'projects/{project_id}/locations/{location}/entryGroups/{entry_group_id}/entries/{entry_id}')"
   ]
  },
  {
   "cell_type": "code",
   "execution_count": null,
   "metadata": {},
   "outputs": [],
   "source": [
    "tag_template = datacatalog.get_tag_template(name=f'projects/{project_id}/locations/{location}/tagTemplates/{tag_template_id}')"
   ]
  },
  {
   "cell_type": "code",
   "execution_count": null,
   "metadata": {},
   "outputs": [],
   "source": [
    "tag = datacatalog_v1.types.Tag()\n",
    "\n",
    "tag.template = tag_template.name\n",
    "tag.name=\"python_tag\"\n",
    "\n",
    "tag.fields['code'] = datacatalog_v1.types.TagField()\n",
    "tag.fields['code'].string_value = 'activit3/ingest_postgresql2dc.ipynb'\n",
    "\n",
    "tag.fields['num_rows'] = datacatalog_v1.types.TagField()\n",
    "tag.fields['num_rows'].double_value = 4\n",
    "\n",
    "tag.fields['quality'] = datacatalog_v1.types.TagField()\n",
    "tag.fields['quality'].enum_value.display_name = 'NORMAL'"
   ]
  },
  {
   "cell_type": "code",
   "execution_count": null,
   "metadata": {},
   "outputs": [],
   "source": [
    "tag = datacatalog.create_tag(parent=entry.name, tag=tag)\n",
    "print('Created tag: {}'.format(tag.name))"
   ]
  },
  {
   "cell_type": "code",
   "execution_count": null,
   "metadata": {},
   "outputs": [],
   "source": []
  }
 ],
 "metadata": {
  "kernelspec": {
   "display_name": "catalog",
   "language": "python",
   "name": "catalog"
  },
  "language_info": {
   "codemirror_mode": {
    "name": "ipython",
    "version": 3
   },
   "file_extension": ".py",
   "mimetype": "text/x-python",
   "name": "python",
   "nbconvert_exporter": "python",
   "pygments_lexer": "ipython3",
   "version": "3.6.12"
  }
 },
 "nbformat": 4,
 "nbformat_minor": 4
}
