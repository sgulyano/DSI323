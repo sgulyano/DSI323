{
 "cells": [
  {
   "cell_type": "code",
   "execution_count": null,
   "metadata": {},
   "outputs": [],
   "source": [
    "%env GOOGLE_APPLICATION_CREDENTIALS="
   ]
  },
  {
   "cell_type": "code",
   "execution_count": null,
   "metadata": {},
   "outputs": [],
   "source": [
    "from google.cloud import datacatalog_v1"
   ]
  },
  {
   "cell_type": "code",
   "execution_count": null,
   "metadata": {},
   "outputs": [],
   "source": [
    "datacatalog = datacatalog_v1.DataCatalogClient()"
   ]
  },
  {
   "cell_type": "code",
   "execution_count": null,
   "metadata": {},
   "outputs": [],
   "source": [
    "resource_name = '//bigquery.googleapis.com/projects/{}/datasets/{}'\\\n",
    "    .format(\"sarun-project\", \"dsi_dataset\")\n",
    "\n",
    "print(datacatalog.lookup_entry(request={'linked_resource': resource_name}))"
   ]
  },
  {
   "cell_type": "code",
   "execution_count": null,
   "metadata": {},
   "outputs": [],
   "source": [
    "project_id = 'sarun-project'\n",
    "location = 'us'\n",
    "dataset_id = 'dsi_dataset'\n",
    "table_id = 'taxi_trips'"
   ]
  },
  {
   "cell_type": "code",
   "execution_count": null,
   "metadata": {},
   "outputs": [],
   "source": [
    "tag_template = datacatalog_v1.types.TagTemplate()\n",
    "\n",
    "tag_template.display_name = 'Python Tag Template'\n",
    "\n",
    "tag_template.fields['code'] = datacatalog_v1.types.TagTemplateField()\n",
    "tag_template.fields['code'].display_name = 'Code that produce the tag template'\n",
    "tag_template.fields['code'].type_.primitive_type = datacatalog_v1.types.FieldType.PrimitiveType.STRING\n",
    "\n",
    "tag_template.fields['num_rows'] = datacatalog_v1.types.TagTemplateField()\n",
    "tag_template.fields['num_rows'].display_name = 'Number of rows in data asset'\n",
    "tag_template.fields['num_rows'].type_.primitive_type = datacatalog_v1.types.FieldType.PrimitiveType.DOUBLE\n",
    "\n",
    "tag_template.fields['quality'] = datacatalog_v1.types.TagTemplateField()\n",
    "tag_template.fields['quality'].display_name = 'Data quality'\n",
    "\n",
    "for display_name in ['GOOD', 'NORMAL', 'POOR']:\n",
    "    enum_value = datacatalog_v1.types.FieldType.EnumType.EnumValue(display_name = display_name)\n",
    "    tag_template.fields['quality'].type_.enum_type.allowed_values.append(enum_value)\n",
    "\n",
    "expected_template_name = datacatalog_v1.DataCatalogClient\\\n",
    "    .tag_template_path(project_id, location, 'python_tag_template')"
   ]
  },
  {
   "cell_type": "code",
   "execution_count": null,
   "metadata": {},
   "outputs": [],
   "source": [
    "try:\n",
    "    tag_template = datacatalog.create_tag_template(\n",
    "        parent='projects/{}/locations/{}'.format(project_id, location),\n",
    "        tag_template_id='python_tag_template',\n",
    "        tag_template=tag_template)\n",
    "    print('Created template: {}'.format(tag_template.name))\n",
    "except OSError as e:\n",
    "    print('Cannot create template: {}'.format(expected_template_name))\n",
    "    print('{}'.format(e))"
   ]
  },
  {
   "cell_type": "code",
   "execution_count": null,
   "metadata": {},
   "outputs": [],
   "source": [
    "resource_name = '//bigquery.googleapis.com/projects/{}' \\\n",
    "                '/datasets/{}/tables/{}'.format(project_id, dataset_id, table_id)\n",
    "table_entry = datacatalog.lookup_entry(request={\"linked_resource\": resource_name})"
   ]
  },
  {
   "cell_type": "code",
   "execution_count": null,
   "metadata": {},
   "outputs": [],
   "source": [
    "tag = datacatalog_v1.types.Tag()\n",
    "\n",
    "tag.template = tag_template.name\n",
    "tag.name=\"python_tag\"\n",
    "\n",
    "tag.fields['code'] = datacatalog_v1.types.TagField()\n",
    "tag.fields['code'].string_value = 'create_metadata.ipynb'\n",
    "\n",
    "tag.fields['num_rows'] = datacatalog_v1.types.TagField()\n",
    "tag.fields['num_rows'].double_value = 16385532\n",
    "\n",
    "tag.fields['quality'] = datacatalog_v1.types.TagField()\n",
    "tag.fields['quality'].enum_value.display_name = 'NORMAL'"
   ]
  },
  {
   "cell_type": "code",
   "execution_count": null,
   "metadata": {},
   "outputs": [],
   "source": [
    "tag = datacatalog.create_tag(parent=table_entry.name, tag=tag)\n",
    "print('Created tag: {}'.format(tag.name))"
   ]
  },
  {
   "cell_type": "code",
   "execution_count": null,
   "metadata": {},
   "outputs": [],
   "source": []
  }
 ],
 "metadata": {
  "kernelspec": {
   "display_name": "catalog",
   "language": "python",
   "name": "catalog"
  },
  "language_info": {
   "codemirror_mode": {
    "name": "ipython",
    "version": 3
   },
   "file_extension": ".py",
   "mimetype": "text/x-python",
   "name": "python",
   "nbconvert_exporter": "python",
   "pygments_lexer": "ipython3",
   "version": "3.6.12"
  }
 },
 "nbformat": 4,
 "nbformat_minor": 4
}
