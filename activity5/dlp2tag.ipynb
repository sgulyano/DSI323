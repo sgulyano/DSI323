{
 "cells": [
  {
   "cell_type": "markdown",
   "metadata": {},
   "source": [
    "# Create Policy Tags from DLP Scan Results"
   ]
  },
  {
   "cell_type": "code",
   "execution_count": null,
   "metadata": {},
   "outputs": [],
   "source": [
    "%env GOOGLE_APPLICATION_CREDENTIALS="
   ]
  },
  {
   "cell_type": "code",
   "execution_count": null,
   "metadata": {},
   "outputs": [],
   "source": [
    "%env CLOUDSDK_PYTHON="
   ]
  },
  {
   "cell_type": "code",
   "execution_count": null,
   "metadata": {},
   "outputs": [],
   "source": [
    "from google.cloud import bigquery"
   ]
  },
  {
   "cell_type": "markdown",
   "metadata": {},
   "source": [
    "## Get DLP results from BigQuery\n",
    "\n",
    "See tutorial from https://cloud.google.com/dlp/docs/querying-findings and https://cloud.google.com/bigquery/docs/quickstarts/quickstart-client-libraries\n",
    "\n",
    "Here is the schema of the table.\n",
    "\n",
    "![](schema.png)\n",
    "\n",
    "Here is the InfoTypes that were scanned.\n",
    "\n",
    "![](dlp_scan.png)"
   ]
  },
  {
   "cell_type": "code",
   "execution_count": null,
   "metadata": {},
   "outputs": [],
   "source": [
    "client = bigquery.Client()"
   ]
  },
  {
   "cell_type": "code",
   "execution_count": null,
   "metadata": {},
   "outputs": [],
   "source": [
    "query_job = client.query(\n",
    "    \"\"\"\n",
    "    SELECT\n",
    "      table_counts.field_name,\n",
    "      STRING_AGG( CONCAT(\" \",table_counts.name,\" [count: \",CAST(table_counts.count_total AS String),\"]\")\n",
    "      ORDER BY\n",
    "        table_counts.count_total DESC) AS infoTypes\n",
    "    FROM (\n",
    "      SELECT\n",
    "        locations.record_location.field_id.name AS field_name,\n",
    "        info_type.name,\n",
    "        COUNT(*) AS count_total\n",
    "      FROM\n",
    "        `sarun-project.dsi_dataset.dlp_googleapis_2021_02_07_8865834336597775185`,\n",
    "        UNNEST(location.content_locations) AS locations\n",
    "      WHERE\n",
    "        (likelihood = 'LIKELY'\n",
    "          OR likelihood = 'VERY_LIKELY'\n",
    "          OR likelihood = 'POSSIBLE')\n",
    "      GROUP BY\n",
    "        locations.record_location.field_id.name,\n",
    "        info_type.name\n",
    "      HAVING\n",
    "        count_total>20 ) AS table_counts\n",
    "    GROUP BY\n",
    "      table_counts.field_name\n",
    "    ORDER BY\n",
    "      table_counts.field_name\n",
    "    \"\"\"\n",
    ")\n",
    "\n",
    "results = query_job.result()  # Waits for job to complete."
   ]
  },
  {
   "cell_type": "code",
   "execution_count": null,
   "metadata": {},
   "outputs": [],
   "source": [
    "col = []\n",
    "val = []\n",
    "for row in results:\n",
    "    col.append(row[0])\n",
    "    val.append(row[1])\n",
    "    print(row)"
   ]
  },
  {
   "cell_type": "markdown",
   "metadata": {},
   "source": [
    "Get columns to tag"
   ]
  },
  {
   "cell_type": "code",
   "execution_count": null,
   "metadata": {},
   "outputs": [],
   "source": [
    "tags = {k:v.split(',')[0].strip().split(' ')[0] for k, v in zip(col, val)}\n",
    "tags"
   ]
  },
  {
   "cell_type": "markdown",
   "metadata": {},
   "source": [
    "## Assign Policy Tags to BigQuery Columns\n",
    "\n",
    "First, create Taxonomy using console. Then, run the following lines."
   ]
  },
  {
   "cell_type": "code",
   "execution_count": null,
   "metadata": {},
   "outputs": [],
   "source": [
    "from google.cloud import datacatalog_v1beta1"
   ]
  },
  {
   "cell_type": "code",
   "execution_count": null,
   "metadata": {},
   "outputs": [],
   "source": [
    "client = datacatalog_v1beta1.PolicyTagManagerClient()"
   ]
  },
  {
   "cell_type": "code",
   "execution_count": null,
   "metadata": {},
   "outputs": [],
   "source": [
    "name = client.taxonomy_path('sarun-project', 'us', '3573570058507175677')"
   ]
  },
  {
   "cell_type": "code",
   "execution_count": null,
   "metadata": {},
   "outputs": [],
   "source": [
    "policy_tags = {element.display_name:element.name \n",
    "               for element in client.list_policy_tags(parent=name)}"
   ]
  },
  {
   "cell_type": "code",
   "execution_count": null,
   "metadata": {},
   "outputs": [],
   "source": [
    "table = 'sarun-project:dsi_dataset.org_expedite_intuitive_paradigms_3de0'"
   ]
  },
  {
   "cell_type": "code",
   "execution_count": null,
   "metadata": {},
   "outputs": [],
   "source": [
    "!bq show --schema --format=prettyjson $table > schema.json"
   ]
  },
  {
   "cell_type": "code",
   "execution_count": null,
   "metadata": {},
   "outputs": [],
   "source": [
    "import json"
   ]
  },
  {
   "cell_type": "code",
   "execution_count": null,
   "metadata": {},
   "outputs": [],
   "source": [
    "with open(\"schema.json\", \"r\") as f:\n",
    "    schema_dict = json.loads(f.read())\n",
    "\n",
    "print(schema_dict)"
   ]
  },
  {
   "cell_type": "code",
   "execution_count": null,
   "metadata": {},
   "outputs": [],
   "source": [
    "for field in schema_dict:\n",
    "    if field['name'] in policy_tags.keys():\n",
    "        policy_tag = policy_tags[field['name']]\n",
    "        field['policyTags'] = {'names':[ policy_tag ]}"
   ]
  },
  {
   "cell_type": "code",
   "execution_count": null,
   "metadata": {},
   "outputs": [],
   "source": [
    "schema_dict"
   ]
  },
  {
   "cell_type": "code",
   "execution_count": null,
   "metadata": {},
   "outputs": [],
   "source": [
    "with open('new_schema.json', 'w') as outfile:\n",
    "    json.dump(schema_dict, outfile)"
   ]
  },
  {
   "cell_type": "code",
   "execution_count": null,
   "metadata": {},
   "outputs": [],
   "source": [
    "!bq update $table new_schema.json"
   ]
  },
  {
   "cell_type": "markdown",
   "metadata": {},
   "source": [
    "Here is the new schema of the table.\n",
    "\n",
    "![](new_schema.png)"
   ]
  }
 ],
 "metadata": {
  "kernelspec": {
   "display_name": "catalog",
   "language": "python",
   "name": "catalog"
  },
  "language_info": {
   "codemirror_mode": {
    "name": "ipython",
    "version": 3
   },
   "file_extension": ".py",
   "mimetype": "text/x-python",
   "name": "python",
   "nbconvert_exporter": "python",
   "pygments_lexer": "ipython3",
   "version": "3.6.12"
  }
 },
 "nbformat": 4,
 "nbformat_minor": 5
}
