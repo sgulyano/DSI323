{
 "cells": [
  {
   "cell_type": "markdown",
   "id": "928c3d39",
   "metadata": {},
   "source": [
    "# Create Policy Tags from DLP Scan Results"
   ]
  },
  {
   "cell_type": "code",
   "execution_count": null,
   "id": "bd218902",
   "metadata": {},
   "outputs": [],
   "source": [
    "%env GOOGLE_APPLICATION_CREDENTIALS="
   ]
  },
  {
   "cell_type": "code",
   "execution_count": null,
   "id": "b7bc2869",
   "metadata": {},
   "outputs": [],
   "source": [
    "%env CLOUDSDK_PYTHON=python"
   ]
  },
  {
   "cell_type": "code",
   "execution_count": null,
   "id": "5e555c14",
   "metadata": {},
   "outputs": [],
   "source": [
    "from google.cloud import bigquery"
   ]
  },
  {
   "cell_type": "markdown",
   "id": "eedfcbe0",
   "metadata": {},
   "source": [
    "## Get DLP results from BigQuery\n",
    "\n",
    "See tutorial from https://cloud.google.com/dlp/docs/querying-findings and https://cloud.google.com/bigquery/docs/quickstarts/quickstart-client-libraries\n",
    "\n",
    "Here is the schema of the table.\n",
    "\n",
    "![](schema.png)\n",
    "\n",
    "Here is the InfoTypes that were scanned.\n",
    "\n",
    "![](dlp_scan.png)"
   ]
  },
  {
   "cell_type": "markdown",
   "id": "77f9865d-31ff-47f8-ab53-033827b6e328",
   "metadata": {},
   "source": [
    "The detailed results of DLP must be stored on BigQuery (`dlp_table_id`). First, we query the results of DLP from BigQuery. Consider only the results with POSSIBLE, LIKELY, or VERY LIKELY outcomes and have at least `min_rec` records per column per PII type. Obtain the column name that contains PII from `location.content_locations.record_location.field_id.name` column, and the type of PII from `info_type.name` column."
   ]
  },
  {
   "cell_type": "code",
   "execution_count": null,
   "id": "7248838f-7a8c-4bfe-abae-741b54132a0e",
   "metadata": {},
   "outputs": [],
   "source": [
    "project_id = ''\n",
    "location = ''\n",
    "dataset_id = ''\n",
    "dlp_table_id = ''\n",
    "table_id = ''\n",
    "min_rec = 5\n",
    "policy_tag_tax_id = ''"
   ]
  },
  {
   "cell_type": "code",
   "execution_count": null,
   "id": "74ef4825",
   "metadata": {},
   "outputs": [],
   "source": [
    "client = bigquery.Client()"
   ]
  },
  {
   "cell_type": "code",
   "execution_count": null,
   "id": "bd21b630",
   "metadata": {},
   "outputs": [],
   "source": [
    "query_job = client.query(\n",
    "    f\"\"\"\n",
    "    SELECT\n",
    "      table_counts.field_name,\n",
    "      STRING_AGG( CONCAT(\" \",table_counts.name,\" [count: \",CAST(table_counts.count_total AS String),\"]\")\n",
    "      ORDER BY\n",
    "        table_counts.count_total DESC) AS infoTypes\n",
    "    FROM (\n",
    "      SELECT\n",
    "        locations.record_location.field_id.name AS field_name,\n",
    "        info_type.name,\n",
    "        COUNT(*) AS count_total\n",
    "      FROM\n",
    "        `{project_id}.{dataset_id}.{dlp_table_id}`,\n",
    "        UNNEST(location.content_locations) AS locations\n",
    "      WHERE\n",
    "        (likelihood = 'LIKELY'\n",
    "          OR likelihood = 'VERY_LIKELY'\n",
    "          OR likelihood = 'POSSIBLE')\n",
    "      GROUP BY\n",
    "        locations.record_location.field_id.name,\n",
    "        info_type.name\n",
    "      HAVING\n",
    "        count_total > {min_rec} ) AS table_counts\n",
    "    GROUP BY\n",
    "      table_counts.field_name\n",
    "    ORDER BY\n",
    "      table_counts.field_name\n",
    "    \"\"\"\n",
    ")\n",
    "\n",
    "results = query_job.result()  # Waits for job to complete."
   ]
  },
  {
   "cell_type": "code",
   "execution_count": null,
   "id": "6523ba6b",
   "metadata": {},
   "outputs": [],
   "source": [
    "col = []\n",
    "val = []\n",
    "for row in results:\n",
    "    col.append(row[0])\n",
    "    val.append(row[1])\n",
    "    print(row)"
   ]
  },
  {
   "cell_type": "markdown",
   "id": "2a8ab42d",
   "metadata": {},
   "source": [
    "Get columns to tag"
   ]
  },
  {
   "cell_type": "code",
   "execution_count": null,
   "id": "7a78b415",
   "metadata": {},
   "outputs": [],
   "source": [
    "tags = {k:v.split(',')[0].strip().split(' ')[0] for k, v in zip(col, val)}\n",
    "tags"
   ]
  },
  {
   "cell_type": "markdown",
   "id": "de12e355",
   "metadata": {},
   "source": [
    "## Assign Policy Tags to BigQuery Columns\n",
    "\n",
    "First, create policy tag taxonomy using Google cloud console, which contains one tag per PII type. Then, run the following lines."
   ]
  },
  {
   "cell_type": "code",
   "execution_count": null,
   "id": "7f0aa4f3",
   "metadata": {},
   "outputs": [],
   "source": [
    "from google.cloud import datacatalog_v1beta1"
   ]
  },
  {
   "cell_type": "code",
   "execution_count": null,
   "id": "aca3c10c",
   "metadata": {},
   "outputs": [],
   "source": [
    "client = datacatalog_v1beta1.PolicyTagManagerClient()"
   ]
  },
  {
   "cell_type": "markdown",
   "id": "ee1b13fd-7d0b-42ca-ad1b-a6090814ac47",
   "metadata": {},
   "source": [
    "Get the policy tag taxonomy."
   ]
  },
  {
   "cell_type": "code",
   "execution_count": null,
   "id": "1c80ca76",
   "metadata": {},
   "outputs": [],
   "source": [
    "name = client.taxonomy_path(project_id, location, policy_tag_tax_id)"
   ]
  },
  {
   "cell_type": "code",
   "execution_count": null,
   "id": "9c4d7b86",
   "metadata": {},
   "outputs": [],
   "source": [
    "policy_tags = {element.display_name:element.name \n",
    "               for element in client.list_policy_tags(parent=name)}\n",
    "policy_tags"
   ]
  },
  {
   "cell_type": "markdown",
   "id": "a07042e4-5519-4ddb-9977-fd51f41ffd55",
   "metadata": {},
   "source": [
    "Get the content (table) that we want to tag."
   ]
  },
  {
   "cell_type": "code",
   "execution_count": null,
   "id": "c41c7ff2",
   "metadata": {},
   "outputs": [],
   "source": [
    "table = f'{project_id}:{dataset_id}.{table_id}'\n",
    "table"
   ]
  },
  {
   "cell_type": "markdown",
   "id": "ecb9f3a3-ba17-481f-95f2-9dcf7b11926d",
   "metadata": {},
   "source": [
    "Get the original schma of the table."
   ]
  },
  {
   "cell_type": "code",
   "execution_count": null,
   "id": "daa02358",
   "metadata": {},
   "outputs": [],
   "source": [
    "!bq show --schema --format=prettyjson $table > schema.json"
   ]
  },
  {
   "cell_type": "code",
   "execution_count": null,
   "id": "f1c687ad",
   "metadata": {},
   "outputs": [],
   "source": [
    "import json"
   ]
  },
  {
   "cell_type": "code",
   "execution_count": null,
   "id": "dc2353e7",
   "metadata": {},
   "outputs": [],
   "source": [
    "with open(\"schema.json\", \"r\") as f:\n",
    "    schema_dict = json.loads(f.read())\n",
    "\n",
    "print(schema_dict)"
   ]
  },
  {
   "cell_type": "markdown",
   "id": "f2c9a5cb-2902-4022-ae08-23258855de7b",
   "metadata": {},
   "source": [
    "Add policy tag to the schema"
   ]
  },
  {
   "cell_type": "code",
   "execution_count": null,
   "id": "1d5786a3",
   "metadata": {},
   "outputs": [],
   "source": [
    "for field in schema_dict:\n",
    "    if field['name'] in tags.keys():\n",
    "        policy_tag = policy_tags[tags[field['name']]]\n",
    "        field['policyTags'] = {'names':[ policy_tag ]}"
   ]
  },
  {
   "cell_type": "code",
   "execution_count": null,
   "id": "af5c7e01",
   "metadata": {},
   "outputs": [],
   "source": [
    "schema_dict"
   ]
  },
  {
   "cell_type": "markdown",
   "id": "efa9a741-2e90-432d-972c-0e7e6ef139db",
   "metadata": {},
   "source": [
    "Update the schema"
   ]
  },
  {
   "cell_type": "code",
   "execution_count": null,
   "id": "3a320469",
   "metadata": {},
   "outputs": [],
   "source": [
    "with open('new_schema.json', 'w') as outfile:\n",
    "    json.dump(schema_dict, outfile)"
   ]
  },
  {
   "cell_type": "code",
   "execution_count": null,
   "id": "7bdcefe6",
   "metadata": {},
   "outputs": [],
   "source": [
    "!bq update $table new_schema.json"
   ]
  },
  {
   "cell_type": "markdown",
   "id": "204eeef8",
   "metadata": {},
   "source": [
    "Here is the new schema of the table.\n",
    "\n",
    "![](new_schema.PNG)"
   ]
  }
 ],
 "metadata": {
  "kernelspec": {
   "display_name": "catalog",
   "language": "python",
   "name": "catalog"
  },
  "language_info": {
   "codemirror_mode": {
    "name": "ipython",
    "version": 3
   },
   "file_extension": ".py",
   "mimetype": "text/x-python",
   "name": "python",
   "nbconvert_exporter": "python",
   "pygments_lexer": "ipython3",
   "version": "3.8.12"
  }
 },
 "nbformat": 4,
 "nbformat_minor": 5
}
